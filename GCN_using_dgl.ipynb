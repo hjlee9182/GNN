{
  "nbformat": 4,
  "nbformat_minor": 0,
  "metadata": {
    "colab": {
      "name": "GCN_using_dgl.ipynb",
      "provenance": [],
      "collapsed_sections": []
    },
    "kernelspec": {
      "name": "python3",
      "display_name": "Python 3"
    }
  },
  "cells": [
    {
      "cell_type": "code",
      "metadata": {
        "id": "Z2y4Dx9hGSTO",
        "colab_type": "code",
        "outputId": "dc0801d6-44a2-4ad1-dfce-d6657740c4e6",
        "colab": {
          "base_uri": "https://localhost:8080/",
          "height": 289
        }
      },
      "source": [
        "!pip install dgl"
      ],
      "execution_count": 0,
      "outputs": [
        {
          "output_type": "stream",
          "text": [
            "Collecting dgl\n",
            "\u001b[?25l  Downloading https://files.pythonhosted.org/packages/c5/b4/84e4ebd70ef3985181ef5d2d2a366a45af0e3cd18d249fb212ac03f683cf/dgl-0.4.3.post2-cp36-cp36m-manylinux1_x86_64.whl (3.0MB)\n",
            "\u001b[K     |████████████████████████████████| 3.0MB 4.6MB/s \n",
            "\u001b[?25hRequirement already satisfied: requests>=2.19.0 in /usr/local/lib/python3.6/dist-packages (from dgl) (2.23.0)\n",
            "Requirement already satisfied: numpy>=1.14.0 in /usr/local/lib/python3.6/dist-packages (from dgl) (1.18.4)\n",
            "Requirement already satisfied: scipy>=1.1.0 in /usr/local/lib/python3.6/dist-packages (from dgl) (1.4.1)\n",
            "Requirement already satisfied: networkx>=2.1 in /usr/local/lib/python3.6/dist-packages (from dgl) (2.4)\n",
            "Requirement already satisfied: urllib3!=1.25.0,!=1.25.1,<1.26,>=1.21.1 in /usr/local/lib/python3.6/dist-packages (from requests>=2.19.0->dgl) (1.24.3)\n",
            "Requirement already satisfied: certifi>=2017.4.17 in /usr/local/lib/python3.6/dist-packages (from requests>=2.19.0->dgl) (2020.4.5.1)\n",
            "Requirement already satisfied: idna<3,>=2.5 in /usr/local/lib/python3.6/dist-packages (from requests>=2.19.0->dgl) (2.9)\n",
            "Requirement already satisfied: chardet<4,>=3.0.2 in /usr/local/lib/python3.6/dist-packages (from requests>=2.19.0->dgl) (3.0.4)\n",
            "Requirement already satisfied: decorator>=4.3.0 in /usr/local/lib/python3.6/dist-packages (from networkx>=2.1->dgl) (4.4.2)\n",
            "Installing collected packages: dgl\n",
            "Successfully installed dgl-0.4.3.post2\n"
          ],
          "name": "stdout"
        }
      ]
    },
    {
      "cell_type": "code",
      "metadata": {
        "id": "fZ_r6dG1GT9r",
        "colab_type": "code",
        "colab": {}
      },
      "source": [
        "import dgl\n",
        "import dgl.function as fn\n",
        "import torch as th\n",
        "import torch.nn as nn\n",
        "import torch.nn.functional as F\n",
        "from dgl import DGLGraph"
      ],
      "execution_count": 0,
      "outputs": []
    },
    {
      "cell_type": "code",
      "metadata": {
        "id": "JNY34yriGeip",
        "colab_type": "code",
        "colab": {}
      },
      "source": [
        "class GCNLayer(nn.Module):\n",
        "  def __init__(self,in_feats,out_feats):\n",
        "    super(GCNLayer,self).__init__()\n",
        "    self.linear = nn.Linear(in_feats,out_feats)\n",
        "  \n",
        "  def forward(self,g,feature):\n",
        "    with g.local_scope():\n",
        "      g.ndata['h'] = feature # ndata h에 feature저장\n",
        "      g.update_all(fn.copy_src(src='h',out='m'),fn.sum(msg='m',out='h'))# src에서 destination으로 sum 한값을 넘김\n",
        "      h = g.ndata['h']\n",
        "      return self.linear(h)\n",
        "  "
      ],
      "execution_count": 0,
      "outputs": []
    },
    {
      "cell_type": "code",
      "metadata": {
        "id": "JiGW88hlGf7C",
        "colab_type": "code",
        "outputId": "6d165ffa-86b2-4f56-f182-de066f8304b3",
        "colab": {
          "base_uri": "https://localhost:8080/",
          "height": 161
        }
      },
      "source": [
        "class Net(nn.Module):\n",
        "    def __init__(self):\n",
        "        super(Net, self).__init__()\n",
        "        self.layer1 = GCNLayer(1433, 16)\n",
        "        self.layer2 = GCNLayer(16, 7)\n",
        "\n",
        "    def forward(self, g, features):\n",
        "        x = F.relu(self.layer1(g, features))\n",
        "        x = self.layer2(g, x)\n",
        "        return x\n",
        "print(net)\n",
        "net = Net()\n"
      ],
      "execution_count": 0,
      "outputs": [
        {
          "output_type": "stream",
          "text": [
            "Net(\n",
            "  (layer1): GCNLayer(\n",
            "    (linear): Linear(in_features=1433, out_features=16, bias=True)\n",
            "  )\n",
            "  (layer2): GCNLayer(\n",
            "    (linear): Linear(in_features=16, out_features=7, bias=True)\n",
            "  )\n",
            ")\n"
          ],
          "name": "stdout"
        }
      ]
    },
    {
      "cell_type": "code",
      "metadata": {
        "id": "3Xhxxx_rHUYy",
        "colab_type": "code",
        "colab": {}
      },
      "source": [
        "from dgl.data import citation_graph as citegrh\n",
        "import networkx as nx\n",
        "def load_cora_data():\n",
        "    data = citegrh.load_cora()\n",
        "    features = th.FloatTensor(data.features)\n",
        "    labels = th.LongTensor(data.labels)\n",
        "    train_mask = th.BoolTensor(data.train_mask)\n",
        "    test_mask = th.BoolTensor(data.test_mask)\n",
        "    g = DGLGraph(data.graph)\n",
        "    return g, features, labels, train_mask, test_mask"
      ],
      "execution_count": 0,
      "outputs": []
    },
    {
      "cell_type": "code",
      "metadata": {
        "id": "kngCbSipHVrD",
        "colab_type": "code",
        "colab": {}
      },
      "source": [
        "def evaluate(model, g, features, labels, mask):\n",
        "    model.eval()\n",
        "    with th.no_grad():\n",
        "        logits = model(g, features)\n",
        "        logits = logits[mask]\n",
        "        labels = labels[mask]\n",
        "        _, indices = th.max(logits, dim=1)#가장 큰값들을 뽑아냄\n",
        "        correct = th.sum(indices == labels)\n",
        "        return correct.item() * 1.0 / len(labels)"
      ],
      "execution_count": 0,
      "outputs": []
    },
    {
      "cell_type": "code",
      "metadata": {
        "id": "den1sIMGHW6S",
        "colab_type": "code",
        "outputId": "aacaa12c-392b-4a75-8127-703dd0b75511",
        "colab": {
          "base_uri": "https://localhost:8080/",
          "height": 1000
        }
      },
      "source": [
        "import time\n",
        "import numpy as np\n",
        "g, features, labels, train_mask, test_mask = load_cora_data()\n",
        "optimizer = th.optim.Adam(net.parameters(), lr=1e-2)\n",
        "dur = []\n",
        "\n",
        "for epoch in range(50):\n",
        "    if epoch >=3:\n",
        "        t0 = time.time()\n",
        "\n",
        "    net.train()\n",
        "    logits = net(g, features)\n",
        "    logp = F.log_softmax(logits, 1)\n",
        "    loss = F.nll_loss(logp[train_mask], labels[train_mask])\n",
        "    #loss구하기\n",
        "\n",
        "    optimizer.zero_grad()\n",
        "    loss.backward()\n",
        "    optimizer.step()\n",
        "    #update\n",
        "    \n",
        "    if epoch >=3:\n",
        "        dur.append(time.time() - t0)\n",
        "\n",
        "    acc = evaluate(net, g, features, labels, test_mask)\n",
        "    print(\"Epoch {:05d} | Loss {:.4f} | Test Acc {:.4f} | Time(s) {:.4f}\".format(\n",
        "            epoch, loss.item(), acc, np.mean(dur)))"
      ],
      "execution_count": 0,
      "outputs": [
        {
          "output_type": "stream",
          "text": [
            "/usr/local/lib/python3.6/dist-packages/numpy/core/fromnumeric.py:3335: RuntimeWarning: Mean of empty slice.\n",
            "  out=out, **kwargs)\n",
            "/usr/local/lib/python3.6/dist-packages/numpy/core/_methods.py:161: RuntimeWarning: invalid value encountered in double_scalars\n",
            "  ret = ret.dtype.type(ret / rcount)\n"
          ],
          "name": "stderr"
        },
        {
          "output_type": "stream",
          "text": [
            "Epoch 00000 | Loss 0.0242 | Test Acc 0.7850 | Time(s) nan\n",
            "Epoch 00001 | Loss 0.0220 | Test Acc 0.7520 | Time(s) nan\n",
            "Epoch 00002 | Loss 0.1013 | Test Acc 0.7790 | Time(s) nan\n",
            "Epoch 00003 | Loss 0.0197 | Test Acc 0.7940 | Time(s) 0.1420\n",
            "Epoch 00004 | Loss 0.0376 | Test Acc 0.7900 | Time(s) 0.1424\n",
            "Epoch 00005 | Loss 0.0592 | Test Acc 0.7860 | Time(s) 0.1432\n",
            "Epoch 00006 | Loss 0.0683 | Test Acc 0.7790 | Time(s) 0.1440\n",
            "Epoch 00007 | Loss 0.0658 | Test Acc 0.7780 | Time(s) 0.1439\n",
            "Epoch 00008 | Loss 0.0586 | Test Acc 0.7660 | Time(s) 0.1445\n",
            "Epoch 00009 | Loss 0.0496 | Test Acc 0.7580 | Time(s) 0.1447\n",
            "Epoch 00010 | Loss 0.0384 | Test Acc 0.7570 | Time(s) 0.1448\n",
            "Epoch 00011 | Loss 0.0256 | Test Acc 0.7560 | Time(s) 0.1446\n",
            "Epoch 00012 | Loss 0.0161 | Test Acc 0.7460 | Time(s) 0.1447\n",
            "Epoch 00013 | Loss 0.0218 | Test Acc 0.7430 | Time(s) 0.1450\n",
            "Epoch 00014 | Loss 0.0361 | Test Acc 0.7460 | Time(s) 0.1450\n",
            "Epoch 00015 | Loss 0.0346 | Test Acc 0.7530 | Time(s) 0.1457\n",
            "Epoch 00016 | Loss 0.0213 | Test Acc 0.7620 | Time(s) 0.1456\n",
            "Epoch 00017 | Loss 0.0145 | Test Acc 0.7690 | Time(s) 0.1455\n",
            "Epoch 00018 | Loss 0.0172 | Test Acc 0.7680 | Time(s) 0.1453\n",
            "Epoch 00019 | Loss 0.0222 | Test Acc 0.7700 | Time(s) 0.1453\n",
            "Epoch 00020 | Loss 0.0251 | Test Acc 0.7700 | Time(s) 0.1453\n",
            "Epoch 00021 | Loss 0.0250 | Test Acc 0.7690 | Time(s) 0.1452\n",
            "Epoch 00022 | Loss 0.0222 | Test Acc 0.7690 | Time(s) 0.1452\n",
            "Epoch 00023 | Loss 0.0177 | Test Acc 0.7690 | Time(s) 0.1451\n",
            "Epoch 00024 | Loss 0.0137 | Test Acc 0.7590 | Time(s) 0.1450\n",
            "Epoch 00025 | Loss 0.0136 | Test Acc 0.7530 | Time(s) 0.1450\n",
            "Epoch 00026 | Loss 0.0167 | Test Acc 0.7510 | Time(s) 0.1449\n",
            "Epoch 00027 | Loss 0.0189 | Test Acc 0.7510 | Time(s) 0.1450\n",
            "Epoch 00028 | Loss 0.0176 | Test Acc 0.7520 | Time(s) 0.1449\n",
            "Epoch 00029 | Loss 0.0145 | Test Acc 0.7530 | Time(s) 0.1449\n",
            "Epoch 00030 | Loss 0.0125 | Test Acc 0.7590 | Time(s) 0.1448\n",
            "Epoch 00031 | Loss 0.0130 | Test Acc 0.7630 | Time(s) 0.1449\n",
            "Epoch 00032 | Loss 0.0147 | Test Acc 0.7620 | Time(s) 0.1449\n",
            "Epoch 00033 | Loss 0.0155 | Test Acc 0.7620 | Time(s) 0.1448\n",
            "Epoch 00034 | Loss 0.0149 | Test Acc 0.7600 | Time(s) 0.1448\n",
            "Epoch 00035 | Loss 0.0133 | Test Acc 0.7600 | Time(s) 0.1448\n",
            "Epoch 00036 | Loss 0.0121 | Test Acc 0.7550 | Time(s) 0.1448\n",
            "Epoch 00037 | Loss 0.0122 | Test Acc 0.7550 | Time(s) 0.1448\n",
            "Epoch 00038 | Loss 0.0132 | Test Acc 0.7550 | Time(s) 0.1448\n",
            "Epoch 00039 | Loss 0.0137 | Test Acc 0.7550 | Time(s) 0.1448\n",
            "Epoch 00040 | Loss 0.0131 | Test Acc 0.7560 | Time(s) 0.1448\n",
            "Epoch 00041 | Loss 0.0121 | Test Acc 0.7620 | Time(s) 0.1448\n",
            "Epoch 00042 | Loss 0.0116 | Test Acc 0.7650 | Time(s) 0.1447\n",
            "Epoch 00043 | Loss 0.0120 | Test Acc 0.7660 | Time(s) 0.1447\n",
            "Epoch 00044 | Loss 0.0125 | Test Acc 0.7670 | Time(s) 0.1447\n",
            "Epoch 00045 | Loss 0.0125 | Test Acc 0.7660 | Time(s) 0.1447\n",
            "Epoch 00046 | Loss 0.0120 | Test Acc 0.7660 | Time(s) 0.1446\n",
            "Epoch 00047 | Loss 0.0115 | Test Acc 0.7620 | Time(s) 0.1446\n",
            "Epoch 00048 | Loss 0.0114 | Test Acc 0.7630 | Time(s) 0.1445\n",
            "Epoch 00049 | Loss 0.0118 | Test Acc 0.7630 | Time(s) 0.1446\n"
          ],
          "name": "stdout"
        }
      ]
    },
    {
      "cell_type": "code",
      "metadata": {
        "id": "o5-bga2LPhQ6",
        "colab_type": "code",
        "colab": {}
      },
      "source": [
        ""
      ],
      "execution_count": 0,
      "outputs": []
    }
  ]
}